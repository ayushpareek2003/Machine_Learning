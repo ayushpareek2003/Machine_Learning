{
 "cells": [
  {
   "cell_type": "code",
   "execution_count": 2,
   "id": "4dfcf780",
   "metadata": {},
   "outputs": [],
   "source": [
    "#importing numpy\n",
    "import numpy as np"
   ]
  },
  {
   "cell_type": "code",
   "execution_count": 57,
   "id": "4761cf72",
   "metadata": {},
   "outputs": [],
   "source": [
    "#creating a array\n",
    "array_1=np.array([4,4,2])"
   ]
  },
  {
   "cell_type": "code",
   "execution_count": 58,
   "id": "5876f1c9",
   "metadata": {},
   "outputs": [
    {
     "data": {
      "text/plain": [
       "array([4, 4, 2])"
      ]
     },
     "execution_count": 58,
     "metadata": {},
     "output_type": "execute_result"
    }
   ],
   "source": [
    "array_1"
   ]
  },
  {
   "cell_type": "code",
   "execution_count": 8,
   "id": "61c34970",
   "metadata": {},
   "outputs": [
    {
     "data": {
      "text/plain": [
       "(3,)"
      ]
     },
     "execution_count": 8,
     "metadata": {},
     "output_type": "execute_result"
    }
   ],
   "source": [
    "#basic function for array\n",
    "#shape and size of a matrix\n",
    "array_1.shape"
   ]
  },
  {
   "cell_type": "code",
   "execution_count": 6,
   "id": "4ab6ccdc",
   "metadata": {},
   "outputs": [
    {
     "data": {
      "text/plain": [
       "3"
      ]
     },
     "execution_count": 6,
     "metadata": {},
     "output_type": "execute_result"
    }
   ],
   "source": [
    "array_1.size"
   ]
  },
  {
   "cell_type": "code",
   "execution_count": 68,
   "id": "74320b96",
   "metadata": {},
   "outputs": [
    {
     "data": {
      "text/plain": [
       "dtype('int32')"
      ]
     },
     "execution_count": 68,
     "metadata": {},
     "output_type": "execute_result"
    }
   ],
   "source": [
    "#which type of array is\n",
    "array_1.dtype\n"
   ]
  },
  {
   "cell_type": "code",
   "execution_count": 69,
   "id": "cf38b203",
   "metadata": {},
   "outputs": [
    {
     "data": {
      "text/plain": [
       "1"
      ]
     },
     "execution_count": 69,
     "metadata": {},
     "output_type": "execute_result"
    }
   ],
   "source": [
    "#to get dimension of any array\n",
    "array_1.ndim"
   ]
  },
  {
   "cell_type": "code",
   "execution_count": 9,
   "id": "bbcdda6a",
   "metadata": {},
   "outputs": [],
   "source": [
    "#arange--add element in a array from given start to end-1\n",
    "array_2=np.arange(0,10)"
   ]
  },
  {
   "cell_type": "code",
   "execution_count": 10,
   "id": "c245886b",
   "metadata": {},
   "outputs": [
    {
     "data": {
      "text/plain": [
       "array([0, 1, 2, 3, 4, 5, 6, 7, 8, 9])"
      ]
     },
     "execution_count": 10,
     "metadata": {},
     "output_type": "execute_result"
    }
   ],
   "source": [
    "array_2\n"
   ]
  },
  {
   "cell_type": "markdown",
   "id": "9955e2c9",
   "metadata": {},
   "source": [
    "Random"
   ]
  },
  {
   "cell_type": "markdown",
   "id": "1084b9c3",
   "metadata": {},
   "source": [
    "Function"
   ]
  },
  {
   "cell_type": "code",
   "execution_count": 12,
   "id": "977b20bc",
   "metadata": {},
   "outputs": [],
   "source": [
    "#thorugh this we can take a random integer from a given range and make a array of any size containing element from that range\n",
    "\n"
   ]
  },
  {
   "cell_type": "code",
   "execution_count": 13,
   "id": "c8142f54",
   "metadata": {},
   "outputs": [],
   "source": [
    "#by executing below statement we will get an array of size 4x4 containing element in range 0 to 4\n",
    "array_3=np.random.randint(0,4,size=(4,4))"
   ]
  },
  {
   "cell_type": "code",
   "execution_count": 14,
   "id": "86e5ab09",
   "metadata": {},
   "outputs": [
    {
     "data": {
      "text/plain": [
       "array([[3, 0, 2, 1],\n",
       "       [1, 1, 2, 3],\n",
       "       [0, 3, 3, 3],\n",
       "       [0, 2, 3, 2]])"
      ]
     },
     "execution_count": 14,
     "metadata": {},
     "output_type": "execute_result"
    }
   ],
   "source": [
    "array_3"
   ]
  },
  {
   "cell_type": "code",
   "execution_count": 17,
   "id": "950b0b68",
   "metadata": {},
   "outputs": [],
   "source": [
    "#np.random.rand both are used for having floating element as values in array\n",
    "\n",
    "array_4=np.random.rand(5,3)"
   ]
  },
  {
   "cell_type": "code",
   "execution_count": 18,
   "id": "bb4d3c6f",
   "metadata": {},
   "outputs": [
    {
     "data": {
      "text/plain": [
       "array([[0.22654021, 0.00895153, 0.4867367 ],\n",
       "       [0.75054598, 0.34379504, 0.79162603],\n",
       "       [0.42157267, 0.25014471, 0.64576995],\n",
       "       [0.68921435, 0.48970221, 0.13841239],\n",
       "       [0.26061696, 0.44467779, 0.85844518]])"
      ]
     },
     "execution_count": 18,
     "metadata": {},
     "output_type": "execute_result"
    }
   ],
   "source": [
    "array_4"
   ]
  },
  {
   "cell_type": "code",
   "execution_count": 25,
   "id": "9d6e5e7d",
   "metadata": {},
   "outputs": [],
   "source": [
    "#if in the () is not given it will generate a random float integer if any integer in mentioned then an array is returned with size equals integer  \n",
    "num_1=np.random.random()"
   ]
  },
  {
   "cell_type": "code",
   "execution_count": 26,
   "id": "548b6edc",
   "metadata": {},
   "outputs": [
    {
     "data": {
      "text/plain": [
       "0.06889325761140919"
      ]
     },
     "execution_count": 26,
     "metadata": {},
     "output_type": "execute_result"
    }
   ],
   "source": [
    "num_1"
   ]
  },
  {
   "cell_type": "code",
   "execution_count": 32,
   "id": "d23a7f80",
   "metadata": {},
   "outputs": [],
   "source": [
    "#below statement will generate a number from given range if box contain only one element then starting is considered as o and size zero\n",
    "num_2=np.random.randint(6)"
   ]
  },
  {
   "cell_type": "code",
   "execution_count": 33,
   "id": "1a09ec65",
   "metadata": {},
   "outputs": [
    {
     "data": {
      "text/plain": [
       "1"
      ]
     },
     "execution_count": 33,
     "metadata": {},
     "output_type": "execute_result"
    }
   ],
   "source": [
    "num_2"
   ]
  },
  {
   "cell_type": "code",
   "execution_count": 35,
   "id": "e889d6db",
   "metadata": {},
   "outputs": [],
   "source": [
    "#everytime we execute command containing random function it will generate a new number if we wish to hold the number generated in first time we have to use function\n",
    "#np.random.seed()\n",
    "#you can put seed= anything in braces"
   ]
  },
  {
   "cell_type": "code",
   "execution_count": 53,
   "id": "ad25bcbc",
   "metadata": {},
   "outputs": [
    {
     "data": {
      "text/plain": [
       "0"
      ]
     },
     "execution_count": 53,
     "metadata": {},
     "output_type": "execute_result"
    }
   ],
   "source": [
    "np.random.seed(seed=2)\n",
    "num_3=np.random.randint(5)\n",
    "num_3"
   ]
  },
  {
   "cell_type": "markdown",
   "id": "4e6dea79",
   "metadata": {},
   "source": [
    "View a array/matrix"
   ]
  },
  {
   "cell_type": "code",
   "execution_count": 54,
   "id": "c53269bd",
   "metadata": {},
   "outputs": [],
   "source": [
    "#we have two array (array_3,array_2)"
   ]
  },
  {
   "cell_type": "code",
   "execution_count": 60,
   "id": "e637ef77",
   "metadata": {},
   "outputs": [
    {
     "data": {
      "text/plain": [
       "array([0, 1, 2, 3])"
      ]
     },
     "execution_count": 60,
     "metadata": {},
     "output_type": "execute_result"
    }
   ],
   "source": [
    "#to see element without repetiton of any  array in sorted sequence we use \n",
    "np.unique(array_3)"
   ]
  },
  {
   "cell_type": "code",
   "execution_count": 61,
   "id": "288f2080",
   "metadata": {},
   "outputs": [
    {
     "data": {
      "text/plain": [
       "array([[3, 0, 2, 1],\n",
       "       [1, 1, 2, 3],\n",
       "       [0, 3, 3, 3],\n",
       "       [0, 2, 3, 2]])"
      ]
     },
     "execution_count": 61,
     "metadata": {},
     "output_type": "execute_result"
    }
   ],
   "source": [
    "array_3"
   ]
  },
  {
   "cell_type": "code",
   "execution_count": 67,
   "id": "59062a7c",
   "metadata": {},
   "outputs": [
    {
     "data": {
      "text/plain": [
       "array([[3, 0],\n",
       "       [1, 1]])"
      ]
     },
     "execution_count": 67,
     "metadata": {},
     "output_type": "execute_result"
    }
   ],
   "source": [
    "#to see slected numbers of rows and element\n",
    "#we use\n",
    "array_3[:2,:2]"
   ]
  },
  {
   "cell_type": "code",
   "execution_count": 65,
   "id": "930cb446",
   "metadata": {},
   "outputs": [
    {
     "data": {
      "text/plain": [
       "array([ 0,  1,  2,  3, 10])"
      ]
     },
     "execution_count": 65,
     "metadata": {},
     "output_type": "execute_result"
    }
   ],
   "source": [
    "np.unique(temp)"
   ]
  },
  {
   "cell_type": "markdown",
   "id": "42b443f7",
   "metadata": {},
   "source": [
    "## manipulating and comapring"
   ]
  },
  {
   "cell_type": "markdown",
   "id": "16358030",
   "metadata": {},
   "source": [
    "airthmetic operation"
   ]
  },
  {
   "cell_type": "code",
   "execution_count": 70,
   "id": "1038c7a0",
   "metadata": {},
   "outputs": [],
   "source": [
    "#usually these operations are applied on matrix of same size\n",
    "arr_1=np.random.randint(1,9,size=(3,3))\n",
    "arr_2=np.random.randint(2,11,size=(3,3))\n"
   ]
  },
  {
   "cell_type": "code",
   "execution_count": 71,
   "id": "6fd249e6",
   "metadata": {},
   "outputs": [
    {
     "data": {
      "text/plain": [
       "array([[0.5       , 0.5       , 7.        ],\n",
       "       [0.85714286, 1.5       , 2.33333333],\n",
       "       [2.25      , 5.        , 1.        ]])"
      ]
     },
     "execution_count": 71,
     "metadata": {},
     "output_type": "execute_result"
    }
   ],
   "source": [
    "#each element is divided by coresponding element from another matrices\n",
    "arr_2/arr_1"
   ]
  },
  {
   "cell_type": "code",
   "execution_count": 72,
   "id": "ff0b8296",
   "metadata": {},
   "outputs": [
    {
     "data": {
      "text/plain": [
       "array([[32, 18,  7],\n",
       "       [42, 24, 21],\n",
       "       [36,  5, 64]])"
      ]
     },
     "execution_count": 72,
     "metadata": {},
     "output_type": "execute_result"
    }
   ],
   "source": [
    "##each element is multiplied by coresponding element from another matrices\n",
    "arr_2*arr_1\n"
   ]
  },
  {
   "cell_type": "code",
   "execution_count": 73,
   "id": "90ba9707",
   "metadata": {},
   "outputs": [
    {
     "data": {
      "text/plain": [
       "array([[12,  9,  8],\n",
       "       [13, 10, 10],\n",
       "       [13,  6, 16]])"
      ]
     },
     "execution_count": 73,
     "metadata": {},
     "output_type": "execute_result"
    }
   ],
   "source": [
    "#each element is added by coresponding element from another matrices\n",
    "arr_2+arr_1"
   ]
  },
  {
   "cell_type": "code",
   "execution_count": 74,
   "id": "c9de7bcf",
   "metadata": {},
   "outputs": [
    {
     "data": {
      "text/plain": [
       "array([[0, 0, 7],\n",
       "       [0, 1, 2],\n",
       "       [2, 5, 1]])"
      ]
     },
     "execution_count": 74,
     "metadata": {},
     "output_type": "execute_result"
    }
   ],
   "source": [
    "#floor division and modolous\n",
    "arr_2//arr_1"
   ]
  },
  {
   "cell_type": "code",
   "execution_count": 75,
   "id": "c2846067",
   "metadata": {},
   "outputs": [
    {
     "data": {
      "text/plain": [
       "array([[16,  9, 49],\n",
       "       [36, 36, 49],\n",
       "       [81, 25, 64]])"
      ]
     },
     "execution_count": 75,
     "metadata": {},
     "output_type": "execute_result"
    }
   ],
   "source": [
    "#it will return element raise to power equals to given integer\n",
    "arr_2**2"
   ]
  },
  {
   "cell_type": "code",
   "execution_count": 76,
   "id": "52426a90",
   "metadata": {},
   "outputs": [
    {
     "data": {
      "text/plain": [
       "array([[2.98095799e+03, 4.03428793e+02, 2.71828183e+00],\n",
       "       [1.09663316e+03, 5.45981500e+01, 2.00855369e+01],\n",
       "       [5.45981500e+01, 2.71828183e+00, 2.98095799e+03]])"
      ]
     },
     "execution_count": 76,
     "metadata": {},
     "output_type": "execute_result"
    }
   ],
   "source": [
    "#exponential and lograthimic\n",
    "np.exp(arr_1)"
   ]
  },
  {
   "cell_type": "code",
   "execution_count": 77,
   "id": "21266a5a",
   "metadata": {},
   "outputs": [
    {
     "data": {
      "text/plain": [
       "array([[1.38629436, 1.09861229, 1.94591015],\n",
       "       [1.79175947, 1.79175947, 1.94591015],\n",
       "       [2.19722458, 1.60943791, 2.07944154]])"
      ]
     },
     "execution_count": 77,
     "metadata": {},
     "output_type": "execute_result"
    }
   ],
   "source": [
    "np.log(arr_2)"
   ]
  },
  {
   "cell_type": "code",
   "execution_count": 78,
   "id": "8274a02d",
   "metadata": {},
   "outputs": [
    {
     "data": {
      "text/plain": [
       "55"
      ]
     },
     "execution_count": 78,
     "metadata": {},
     "output_type": "execute_result"
    }
   ],
   "source": [
    "#to find sum of element of array we use\n",
    "np.sum(arr_2)"
   ]
  },
  {
   "cell_type": "code",
   "execution_count": 79,
   "id": "3319a757",
   "metadata": {},
   "outputs": [],
   "source": [
    "#we have a another sum function in basic python but sum from numpy module is very fast\n",
    "#we can check it by using '%time it ' function "
   ]
  },
  {
   "cell_type": "code",
   "execution_count": 80,
   "id": "39cb731e",
   "metadata": {},
   "outputs": [],
   "source": [
    "#reshaping a matrix\n",
    "arr_3=np.array([[1,3,1],[3,4,1]])"
   ]
  },
  {
   "cell_type": "code",
   "execution_count": 81,
   "id": "eb0b2ad0",
   "metadata": {},
   "outputs": [
    {
     "data": {
      "text/plain": [
       "array([[1, 3, 1],\n",
       "       [3, 4, 1]])"
      ]
     },
     "execution_count": 81,
     "metadata": {},
     "output_type": "execute_result"
    }
   ],
   "source": [
    "arr_3"
   ]
  },
  {
   "cell_type": "code",
   "execution_count": 82,
   "id": "d42a55d0",
   "metadata": {},
   "outputs": [
    {
     "data": {
      "text/plain": [
       "array([[[1],\n",
       "        [3],\n",
       "        [1]],\n",
       "\n",
       "       [[3],\n",
       "        [4],\n",
       "        [1]]])"
      ]
     },
     "execution_count": 82,
     "metadata": {},
     "output_type": "execute_result"
    }
   ],
   "source": [
    "arr_3.reshape(2,3,1)"
   ]
  },
  {
   "cell_type": "markdown",
   "id": "35116fde",
   "metadata": {},
   "source": [
    "Dot product"
   ]
  },
  {
   "cell_type": "code",
   "execution_count": 85,
   "id": "506bc38d",
   "metadata": {},
   "outputs": [],
   "source": [
    "#there is difference in multiplication and dot product of a array\n",
    "#for dot product no. of coloumn of first and no. of row must be same"
   ]
  },
  {
   "cell_type": "raw",
   "id": "c2580dd0",
   "metadata": {},
   "source": []
  },
  {
   "cell_type": "code",
   "execution_count": 86,
   "id": "cc2133c4",
   "metadata": {},
   "outputs": [
    {
     "data": {
      "text/plain": [
       "array([[ 77,  65, 106],\n",
       "       [ 79,  60, 101],\n",
       "       [ 94,  58,  99]])"
      ]
     },
     "execution_count": 86,
     "metadata": {},
     "output_type": "execute_result"
    }
   ],
   "source": [
    "arr_1.dot(arr_2)"
   ]
  },
  {
   "cell_type": "markdown",
   "id": "94297916",
   "metadata": {},
   "source": [
    "Transposing a matrix"
   ]
  },
  {
   "cell_type": "code",
   "execution_count": 87,
   "id": "d31c08cf",
   "metadata": {},
   "outputs": [
    {
     "data": {
      "text/plain": [
       "array([[8, 7, 4],\n",
       "       [6, 4, 1],\n",
       "       [1, 3, 8]])"
      ]
     },
     "execution_count": 87,
     "metadata": {},
     "output_type": "execute_result"
    }
   ],
   "source": [
    "#simple use this line\n",
    "arr_1.T"
   ]
  },
  {
   "cell_type": "code",
   "execution_count": 88,
   "id": "5e993aba",
   "metadata": {},
   "outputs": [
    {
     "data": {
      "text/plain": [
       "array([[8, 6, 1],\n",
       "       [7, 4, 3],\n",
       "       [4, 1, 8]])"
      ]
     },
     "execution_count": 88,
     "metadata": {},
     "output_type": "execute_result"
    }
   ],
   "source": [
    "arr_1"
   ]
  },
  {
   "cell_type": "markdown",
   "id": "9806911e",
   "metadata": {},
   "source": [
    "Sorting "
   ]
  },
  {
   "cell_type": "code",
   "execution_count": 91,
   "id": "faed4f60",
   "metadata": {},
   "outputs": [
    {
     "data": {
      "text/plain": [
       "array([[1, 6, 8],\n",
       "       [3, 4, 7],\n",
       "       [1, 4, 8]])"
      ]
     },
     "execution_count": 91,
     "metadata": {},
     "output_type": "execute_result"
    }
   ],
   "source": [
    "#sort rows \n",
    "np.sort(arr_1)"
   ]
  },
  {
   "cell_type": "code",
   "execution_count": 92,
   "id": "b8757ba1",
   "metadata": {},
   "outputs": [
    {
     "data": {
      "text/plain": [
       "array([[2, 1, 0],\n",
       "       [2, 1, 0],\n",
       "       [1, 0, 2]], dtype=int64)"
      ]
     },
     "execution_count": 92,
     "metadata": {},
     "output_type": "execute_result"
    }
   ],
   "source": [
    "#return index of element according to desired location after solving\n",
    "np.argsort(arr_1)"
   ]
  },
  {
   "cell_type": "code",
   "execution_count": 101,
   "id": "adf19ef3",
   "metadata": {},
   "outputs": [
    {
     "data": {
      "text/plain": [
       "array([4, 1, 1])"
      ]
     },
     "execution_count": 101,
     "metadata": {},
     "output_type": "execute_result"
    }
   ],
   "source": [
    "# min function will return min value from row if (axis =1) and from coloumn if (axis =0)\n",
    "np.min(arr_1,axis=0)"
   ]
  },
  {
   "cell_type": "markdown",
   "id": "c2e3ab4e",
   "metadata": {},
   "source": [
    "## Importing Image in Array "
   ]
  },
  {
   "cell_type": "code",
   "execution_count": 102,
   "id": "f4a6b1b6",
   "metadata": {},
   "outputs": [],
   "source": [
    "#we use imread function from matplotlib"
   ]
  },
  {
   "cell_type": "code",
   "execution_count": 111,
   "id": "023bfa5c",
   "metadata": {},
   "outputs": [],
   "source": [
    "from matplotlib.image import imread\n",
    "\n"
   ]
  },
  {
   "cell_type": "code",
   "execution_count": 109,
   "id": "97c4c94d",
   "metadata": {},
   "outputs": [],
   "source": [
    "##you can transer any image in array and numbers shown in array will be pixels\n"
   ]
  },
  {
   "cell_type": "code",
   "execution_count": 106,
   "id": "1acfdde3",
   "metadata": {},
   "outputs": [],
   "source": [
    "img=imread(\"lol_1.jpg\")"
   ]
  },
  {
   "cell_type": "code",
   "execution_count": 107,
   "id": "b1eee294",
   "metadata": {},
   "outputs": [
    {
     "data": {
      "text/plain": [
       "array([[[210, 176, 139],\n",
       "        [214, 180, 142],\n",
       "        [217, 183, 145],\n",
       "        ...,\n",
       "        [189, 160, 128],\n",
       "        [189, 160, 128],\n",
       "        [190, 161, 129]],\n",
       "\n",
       "       [[204, 170, 133],\n",
       "        [210, 176, 138],\n",
       "        [217, 183, 145],\n",
       "        ...,\n",
       "        [184, 155, 123],\n",
       "        [184, 155, 123],\n",
       "        [183, 154, 122]],\n",
       "\n",
       "       [[196, 162, 125],\n",
       "        [205, 171, 134],\n",
       "        [216, 182, 144],\n",
       "        ...,\n",
       "        [186, 157, 125],\n",
       "        [185, 156, 124],\n",
       "        [183, 154, 122]],\n",
       "\n",
       "       ...,\n",
       "\n",
       "       [[ 16,  10,  14],\n",
       "        [ 16,  10,  14],\n",
       "        [ 17,  11,  15],\n",
       "        ...,\n",
       "        [123, 105,  83],\n",
       "        [122, 104,  82],\n",
       "        [123, 105,  83]],\n",
       "\n",
       "       [[ 16,  10,  14],\n",
       "        [ 16,  10,  14],\n",
       "        [ 17,  11,  15],\n",
       "        ...,\n",
       "        [121, 103,  81],\n",
       "        [119, 101,  79],\n",
       "        [120, 102,  80]],\n",
       "\n",
       "       [[ 16,  10,  14],\n",
       "        [ 17,  11,  15],\n",
       "        [ 18,  12,  16],\n",
       "        ...,\n",
       "        [121, 103,  81],\n",
       "        [116,  98,  76],\n",
       "        [115,  97,  75]]], dtype=uint8)"
      ]
     },
     "execution_count": 107,
     "metadata": {},
     "output_type": "execute_result"
    }
   ],
   "source": [
    "img"
   ]
  },
  {
   "cell_type": "markdown",
   "id": "2f83bc18",
   "metadata": {},
   "source": [
    "Till now i showed you how to use basic function of numpy module in python,\n",
    "commands by ayush pareek"
   ]
  },
  {
   "cell_type": "code",
   "execution_count": null,
   "id": "d7ac28f7",
   "metadata": {},
   "outputs": [],
   "source": []
  }
 ],
 "metadata": {
  "kernelspec": {
   "display_name": "Python 3 (ipykernel)",
   "language": "python",
   "name": "python3"
  },
  "language_info": {
   "codemirror_mode": {
    "name": "ipython",
    "version": 3
   },
   "file_extension": ".py",
   "mimetype": "text/x-python",
   "name": "python",
   "nbconvert_exporter": "python",
   "pygments_lexer": "ipython3",
   "version": "3.11.3"
  }
 },
 "nbformat": 4,
 "nbformat_minor": 5
}
