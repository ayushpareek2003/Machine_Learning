{
 "cells": [
  {
   "cell_type": "markdown",
   "id": "b35c33a1",
   "metadata": {},
   "source": [
    "HOW TO USE OneHotEncoder"
   ]
  },
  {
   "cell_type": "markdown",
   "id": "42b77902",
   "metadata": {},
   "source": [
    "This is used to represent categorical  data into numerical so it can fit into models easily"
   ]
  },
  {
   "cell_type": "code",
   "execution_count": 1,
   "id": "d86d59da",
   "metadata": {},
   "outputs": [],
   "source": [
    "#so let us start by importing basic modules first\n",
    "import pandas as pd\n",
    "#importing onehotencoder\n",
    "from sklearn.preprocessing import OneHotEncoder\n",
    "#importing column transformer\n",
    "from sklearn.compose import ColumnTransformer\n"
   ]
  },
  {
   "cell_type": "code",
   "execution_count": 2,
   "id": "89293219",
   "metadata": {},
   "outputs": [],
   "source": [
    "#now we will use a data fram (i will include this in profile)"
   ]
  },
  {
   "cell_type": "code",
   "execution_count": 3,
   "id": "2f8bd7ac",
   "metadata": {},
   "outputs": [],
   "source": [
    "Df=pd.read_csv(\"52  car-sales.csv\")"
   ]
  },
  {
   "cell_type": "code",
   "execution_count": 8,
   "id": "d0cb75db",
   "metadata": {},
   "outputs": [
    {
     "data": {
      "text/plain": [
       "Unnamed: 0        int64\n",
       "Make             object\n",
       "Colour           object\n",
       "Odometer (KM)     int64\n",
       "Doors             int64\n",
       "Price            object\n",
       "dtype: object"
      ]
     },
     "execution_count": 8,
     "metadata": {},
     "output_type": "execute_result"
    }
   ],
   "source": [
    "Df.dtypes"
   ]
  },
  {
   "cell_type": "markdown",
   "id": "5bfc83c4",
   "metadata": {},
   "source": [
    "here you can see (Make, Colour, Price) columns are not if integer/ float type"
   ]
  },
  {
   "cell_type": "code",
   "execution_count": 18,
   "id": "dc374562",
   "metadata": {},
   "outputs": [],
   "source": [
    "#first we create a list like this for columns we want to change\n",
    "cl=[\"Make\", \"Colour\"]"
   ]
  },
  {
   "cell_type": "code",
   "execution_count": 19,
   "id": "0b35ea02",
   "metadata": {},
   "outputs": [],
   "source": [
    "#follow these steps now\n",
    "onehotencode=OneHotEncoder()\n",
    "Transformer=ColumnTransformer([(\"onehotencode\",onehotencode,cl)],remainder=\"passthrough\")\n",
    "new=Transformer.fit_transform(Df)"
   ]
  },
  {
   "cell_type": "code",
   "execution_count": 20,
   "id": "401561c5",
   "metadata": {},
   "outputs": [],
   "source": [
    "New=pd.DataFrame(new)"
   ]
  },
  {
   "cell_type": "code",
   "execution_count": 21,
   "id": "bc04fc1b",
   "metadata": {},
   "outputs": [
    {
     "data": {
      "text/html": [
       "<div>\n",
       "<style scoped>\n",
       "    .dataframe tbody tr th:only-of-type {\n",
       "        vertical-align: middle;\n",
       "    }\n",
       "\n",
       "    .dataframe tbody tr th {\n",
       "        vertical-align: top;\n",
       "    }\n",
       "\n",
       "    .dataframe thead th {\n",
       "        text-align: right;\n",
       "    }\n",
       "</style>\n",
       "<table border=\"1\" class=\"dataframe\">\n",
       "  <thead>\n",
       "    <tr style=\"text-align: right;\">\n",
       "      <th></th>\n",
       "      <th>0</th>\n",
       "      <th>1</th>\n",
       "      <th>2</th>\n",
       "      <th>3</th>\n",
       "      <th>4</th>\n",
       "      <th>5</th>\n",
       "      <th>6</th>\n",
       "      <th>7</th>\n",
       "      <th>8</th>\n",
       "      <th>9</th>\n",
       "      <th>10</th>\n",
       "      <th>11</th>\n",
       "      <th>12</th>\n",
       "    </tr>\n",
       "  </thead>\n",
       "  <tbody>\n",
       "    <tr>\n",
       "      <th>0</th>\n",
       "      <td>0.0</td>\n",
       "      <td>0.0</td>\n",
       "      <td>0.0</td>\n",
       "      <td>1.0</td>\n",
       "      <td>0.0</td>\n",
       "      <td>0.0</td>\n",
       "      <td>0.0</td>\n",
       "      <td>0.0</td>\n",
       "      <td>1.0</td>\n",
       "      <td>0</td>\n",
       "      <td>150043</td>\n",
       "      <td>4</td>\n",
       "      <td>$4,000.00</td>\n",
       "    </tr>\n",
       "    <tr>\n",
       "      <th>1</th>\n",
       "      <td>0.0</td>\n",
       "      <td>1.0</td>\n",
       "      <td>0.0</td>\n",
       "      <td>0.0</td>\n",
       "      <td>0.0</td>\n",
       "      <td>0.0</td>\n",
       "      <td>0.0</td>\n",
       "      <td>1.0</td>\n",
       "      <td>0.0</td>\n",
       "      <td>1</td>\n",
       "      <td>87899</td>\n",
       "      <td>4</td>\n",
       "      <td>$5,000.00</td>\n",
       "    </tr>\n",
       "    <tr>\n",
       "      <th>2</th>\n",
       "      <td>0.0</td>\n",
       "      <td>0.0</td>\n",
       "      <td>0.0</td>\n",
       "      <td>1.0</td>\n",
       "      <td>0.0</td>\n",
       "      <td>1.0</td>\n",
       "      <td>0.0</td>\n",
       "      <td>0.0</td>\n",
       "      <td>0.0</td>\n",
       "      <td>2</td>\n",
       "      <td>32549</td>\n",
       "      <td>3</td>\n",
       "      <td>$7,000.00</td>\n",
       "    </tr>\n",
       "    <tr>\n",
       "      <th>3</th>\n",
       "      <td>1.0</td>\n",
       "      <td>0.0</td>\n",
       "      <td>0.0</td>\n",
       "      <td>0.0</td>\n",
       "      <td>1.0</td>\n",
       "      <td>0.0</td>\n",
       "      <td>0.0</td>\n",
       "      <td>0.0</td>\n",
       "      <td>0.0</td>\n",
       "      <td>3</td>\n",
       "      <td>11179</td>\n",
       "      <td>5</td>\n",
       "      <td>$22,000.00</td>\n",
       "    </tr>\n",
       "    <tr>\n",
       "      <th>4</th>\n",
       "      <td>0.0</td>\n",
       "      <td>0.0</td>\n",
       "      <td>1.0</td>\n",
       "      <td>0.0</td>\n",
       "      <td>0.0</td>\n",
       "      <td>0.0</td>\n",
       "      <td>0.0</td>\n",
       "      <td>0.0</td>\n",
       "      <td>1.0</td>\n",
       "      <td>4</td>\n",
       "      <td>213095</td>\n",
       "      <td>4</td>\n",
       "      <td>$3,500.00</td>\n",
       "    </tr>\n",
       "    <tr>\n",
       "      <th>5</th>\n",
       "      <td>0.0</td>\n",
       "      <td>0.0</td>\n",
       "      <td>0.0</td>\n",
       "      <td>1.0</td>\n",
       "      <td>0.0</td>\n",
       "      <td>0.0</td>\n",
       "      <td>1.0</td>\n",
       "      <td>0.0</td>\n",
       "      <td>0.0</td>\n",
       "      <td>5</td>\n",
       "      <td>99213</td>\n",
       "      <td>4</td>\n",
       "      <td>$4,500.00</td>\n",
       "    </tr>\n",
       "    <tr>\n",
       "      <th>6</th>\n",
       "      <td>0.0</td>\n",
       "      <td>1.0</td>\n",
       "      <td>0.0</td>\n",
       "      <td>0.0</td>\n",
       "      <td>0.0</td>\n",
       "      <td>1.0</td>\n",
       "      <td>0.0</td>\n",
       "      <td>0.0</td>\n",
       "      <td>0.0</td>\n",
       "      <td>6</td>\n",
       "      <td>45698</td>\n",
       "      <td>4</td>\n",
       "      <td>$7,500.00</td>\n",
       "    </tr>\n",
       "    <tr>\n",
       "      <th>7</th>\n",
       "      <td>0.0</td>\n",
       "      <td>1.0</td>\n",
       "      <td>0.0</td>\n",
       "      <td>0.0</td>\n",
       "      <td>0.0</td>\n",
       "      <td>1.0</td>\n",
       "      <td>0.0</td>\n",
       "      <td>0.0</td>\n",
       "      <td>0.0</td>\n",
       "      <td>7</td>\n",
       "      <td>54738</td>\n",
       "      <td>4</td>\n",
       "      <td>$7,000.00</td>\n",
       "    </tr>\n",
       "    <tr>\n",
       "      <th>8</th>\n",
       "      <td>0.0</td>\n",
       "      <td>0.0</td>\n",
       "      <td>0.0</td>\n",
       "      <td>1.0</td>\n",
       "      <td>0.0</td>\n",
       "      <td>0.0</td>\n",
       "      <td>0.0</td>\n",
       "      <td>0.0</td>\n",
       "      <td>1.0</td>\n",
       "      <td>8</td>\n",
       "      <td>60000</td>\n",
       "      <td>4</td>\n",
       "      <td>$6,250.00</td>\n",
       "    </tr>\n",
       "    <tr>\n",
       "      <th>9</th>\n",
       "      <td>0.0</td>\n",
       "      <td>0.0</td>\n",
       "      <td>1.0</td>\n",
       "      <td>0.0</td>\n",
       "      <td>0.0</td>\n",
       "      <td>0.0</td>\n",
       "      <td>0.0</td>\n",
       "      <td>0.0</td>\n",
       "      <td>1.0</td>\n",
       "      <td>9</td>\n",
       "      <td>31600</td>\n",
       "      <td>4</td>\n",
       "      <td>$9,700.00</td>\n",
       "    </tr>\n",
       "  </tbody>\n",
       "</table>\n",
       "</div>"
      ],
      "text/plain": [
       "    0    1    2    3    4    5    6    7    8  9       10 11          12\n",
       "0  0.0  0.0  0.0  1.0  0.0  0.0  0.0  0.0  1.0  0  150043  4   $4,000.00\n",
       "1  0.0  1.0  0.0  0.0  0.0  0.0  0.0  1.0  0.0  1   87899  4   $5,000.00\n",
       "2  0.0  0.0  0.0  1.0  0.0  1.0  0.0  0.0  0.0  2   32549  3   $7,000.00\n",
       "3  1.0  0.0  0.0  0.0  1.0  0.0  0.0  0.0  0.0  3   11179  5  $22,000.00\n",
       "4  0.0  0.0  1.0  0.0  0.0  0.0  0.0  0.0  1.0  4  213095  4   $3,500.00\n",
       "5  0.0  0.0  0.0  1.0  0.0  0.0  1.0  0.0  0.0  5   99213  4   $4,500.00\n",
       "6  0.0  1.0  0.0  0.0  0.0  1.0  0.0  0.0  0.0  6   45698  4   $7,500.00\n",
       "7  0.0  1.0  0.0  0.0  0.0  1.0  0.0  0.0  0.0  7   54738  4   $7,000.00\n",
       "8  0.0  0.0  0.0  1.0  0.0  0.0  0.0  0.0  1.0  8   60000  4   $6,250.00\n",
       "9  0.0  0.0  1.0  0.0  0.0  0.0  0.0  0.0  1.0  9   31600  4   $9,700.00"
      ]
     },
     "execution_count": 21,
     "metadata": {},
     "output_type": "execute_result"
    }
   ],
   "source": [
    "New"
   ]
  },
  {
   "cell_type": "markdown",
   "id": "f731f249",
   "metadata": {},
   "source": [
    "Now the values filled in colour/make columns are presented in values "
   ]
  },
  {
   "cell_type": "markdown",
   "id": "5f137877",
   "metadata": {},
   "source": [
    "### by ayush pareek"
   ]
  },
  {
   "cell_type": "code",
   "execution_count": null,
   "id": "091351d2",
   "metadata": {},
   "outputs": [],
   "source": []
  }
 ],
 "metadata": {
  "kernelspec": {
   "display_name": "Python 3 (ipykernel)",
   "language": "python",
   "name": "python3"
  },
  "language_info": {
   "codemirror_mode": {
    "name": "ipython",
    "version": 3
   },
   "file_extension": ".py",
   "mimetype": "text/x-python",
   "name": "python",
   "nbconvert_exporter": "python",
   "pygments_lexer": "ipython3",
   "version": "3.10.9"
  }
 },
 "nbformat": 4,
 "nbformat_minor": 5
}
